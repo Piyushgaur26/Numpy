{
 "cells": [
  {
   "cell_type": "markdown",
   "metadata": {},
   "source": [
    "# ***Numpy Practicals Assignment 29 JUNE 2024 by Piyush Gaur***"
   ]
  },
  {
   "cell_type": "code",
   "execution_count": 248,
   "metadata": {},
   "outputs": [],
   "source": [
    "import numpy as np # type: ignore"
   ]
  },
  {
   "cell_type": "markdown",
   "metadata": {},
   "source": [
    "#### 1. Create a 3X3 Numpy array with random integers between 1 and 100 then interchange it rows and columns."
   ]
  },
  {
   "cell_type": "code",
   "execution_count": 247,
   "metadata": {},
   "outputs": [
    {
     "name": "stdout",
     "output_type": "stream",
     "text": [
      "[[10 26 72]\n",
      " [27 36 91]\n",
      " [38 54 62]]\n",
      "\n",
      "[[10 27 38]\n",
      " [26 36 54]\n",
      " [72 91 62]]\n"
     ]
    }
   ],
   "source": [
    "a=np.random.randint(1,101,size = (3, 3))\n",
    "print(a)\n",
    "\n",
    "print(end='\\n')\n",
    "\n",
    "print(a.T) #transposed matrix\n"
   ]
  },
  {
   "cell_type": "markdown",
   "metadata": {},
   "source": [
    "---\n",
    "#### 2. Generate a 1D Numpy array with 10 elements. reshape it into a 2X5 array,then into 5X2 array.   "
   ]
  },
  {
   "cell_type": "code",
   "execution_count": 98,
   "metadata": {},
   "outputs": [
    {
     "name": "stdout",
     "output_type": "stream",
     "text": [
      "[ 1  2  3  4  5  6  7  8  9 10]\n",
      "\n",
      "Reshaped array of 2X5\n",
      "[[ 1  2  3  4  5]\n",
      " [ 6  7  8  9 10]]\n",
      "\n",
      "Reshaped array of 5X2\n",
      "[[ 1  2]\n",
      " [ 3  4]\n",
      " [ 5  6]\n",
      " [ 7  8]\n",
      " [ 9 10]]\n"
     ]
    }
   ],
   "source": [
    "a=np.arange(1,11)\n",
    "print(a)\n",
    "print(\"\\nReshaped array of 2X5\")\n",
    "print(a.reshape(2,5))\n",
    "print(\"\\nReshaped array of 5X2\")\n",
    "print(a.reshape(5,2))\n"
   ]
  },
  {
   "cell_type": "markdown",
   "metadata": {},
   "source": [
    "---\n",
    "#### 3. Create a 4X4 Numpy array with random float values. Add a border of zeroes around it, resulting in a 6X6 array."
   ]
  },
  {
   "cell_type": "code",
   "execution_count": 99,
   "metadata": {},
   "outputs": [
    {
     "name": "stdout",
     "output_type": "stream",
     "text": [
      "Original 4x4 array:\n",
      "[[ 7.08346232  1.03522482  7.33877758  6.31447369]\n",
      " [13.50672526 11.3055324   3.73343439 11.03041724]\n",
      " [ 6.28186138  8.20872406 10.67663297  8.17988621]\n",
      " [ 2.08141947 12.57073606  1.67198609 15.68047406]]\n",
      "\n",
      "6x6 array with border of zeroes:\n",
      "[[ 0.          0.          0.          0.          0.          0.        ]\n",
      " [ 0.          7.08346232  1.03522482  7.33877758  6.31447369  0.        ]\n",
      " [ 0.         13.50672526 11.3055324   3.73343439 11.03041724  0.        ]\n",
      " [ 0.          6.28186138  8.20872406 10.67663297  8.17988621  0.        ]\n",
      " [ 0.          2.08141947 12.57073606  1.67198609 15.68047406  0.        ]\n",
      " [ 0.          0.          0.          0.          0.          0.        ]]\n"
     ]
    }
   ],
   "source": [
    "random_array = np.random.uniform(1, 17, (4, 4))\n",
    "\n",
    "bordered_array = np.pad(random_array, pad_width=1, mode='constant', constant_values=0)\n",
    "\n",
    "print(\"Original 4x4 array:\")\n",
    "print(random_array)\n",
    "print(\"\\n6x6 array with border of zeroes:\")\n",
    "print(bordered_array)"
   ]
  },
  {
   "cell_type": "markdown",
   "metadata": {},
   "source": [
    "---\n",
    "#### 4. Using Numpy create an array of integers from 10 to 60 with a step of 5."
   ]
  },
  {
   "cell_type": "code",
   "execution_count": 103,
   "metadata": {},
   "outputs": [
    {
     "data": {
      "text/plain": [
       "array([10, 15, 20, 25, 30, 35, 40, 45, 50, 55, 60])"
      ]
     },
     "execution_count": 103,
     "metadata": {},
     "output_type": "execute_result"
    }
   ],
   "source": [
    "np.arange(10,61,5)"
   ]
  },
  {
   "cell_type": "markdown",
   "metadata": {},
   "source": [
    "---\n",
    "#### 5. Create a numpy array of strings['python','numpy','pandas'].Apply different case transfomation(uppercase, lowercase, title etc) to each element."
   ]
  },
  {
   "cell_type": "code",
   "execution_count": 252,
   "metadata": {},
   "outputs": [
    {
     "name": "stdout",
     "output_type": "stream",
     "text": [
      "['python' 'numpy' 'pandas']\n",
      "\n",
      "Uppercase\n",
      "['PYTHON' 'NUMPY' 'PANDAS']\n",
      "\n",
      "Lowercase\n",
      "['python' 'numpy' 'pandas']\n",
      "\n",
      "Title Case\n",
      "['Python' 'Numpy' 'Pandas']\n"
     ]
    }
   ],
   "source": [
    "a=np.array(['python','numpy','pandas'])\n",
    "print(a)\n",
    "print(\"\\nUppercase\")\n",
    "print(np.char.upper(a))\n",
    "print(\"\\nLowercase\")\n",
    "print(np.char.lower(a))\n",
    "print(\"\\nTitle Case\")\n",
    "print(np.char.capitalize(a))"
   ]
  },
  {
   "cell_type": "markdown",
   "metadata": {},
   "source": [
    "---\n",
    "#### 6. Generate a Numpy array of words.Insert a space between each characters of every word in the array."
   ]
  },
  {
   "cell_type": "code",
   "execution_count": 139,
   "metadata": {},
   "outputs": [
    {
     "name": "stdout",
     "output_type": "stream",
     "text": [
      "Original words:\n",
      "['Piyush' 'Gaur' 'Loves' 'data' 'analytics']\n",
      "\n",
      "Words with spaces between characters:\n",
      "['P i y u s h' 'G a u r' 'L o v e s' 'd a t a' 'a n a l y t i c s']\n"
     ]
    }
   ],
   "source": [
    "string =\"Piyush Gaur Loves data analytics\"\n",
    "a=string.split()\n",
    "print(\"Original words:\")\n",
    "print(np.array(a))\n",
    "print(\"\\nWords with spaces between characters:\")\n",
    "r=np.char.join(' ',a)\n",
    "print(r)\n",
    "\n",
    "\n"
   ]
  },
  {
   "cell_type": "markdown",
   "metadata": {},
   "source": [
    "---\n",
    "#### 7. Create two 2d numpy array and perform element wise addition,subtraction,multiplication and division."
   ]
  },
  {
   "cell_type": "code",
   "execution_count": 177,
   "metadata": {},
   "outputs": [
    {
     "name": "stdout",
     "output_type": "stream",
     "text": [
      "arr1\n",
      " [[ 5  5  3  9]\n",
      " [ 4 18 13 10]\n",
      " [15  6 10 10]\n",
      " [ 8 18  5  3]]\n",
      "\n",
      "\n",
      "arr2\n",
      " [[ 3 11 12  9]\n",
      " [ 7  8  9 19]\n",
      " [15 10  8  9]\n",
      " [13 11  6 12]]\n",
      "\n",
      "Addition\n",
      "[[ 8 16 15 18]\n",
      " [11 26 22 29]\n",
      " [30 16 18 19]\n",
      " [21 29 11 15]]\n",
      "\n",
      "Subtraction\n",
      "[[ 2 -6 -9  0]\n",
      " [-3 10  4 -9]\n",
      " [ 0 -4  2  1]\n",
      " [-5  7 -1 -9]]\n",
      "\n",
      "Multplication\n",
      "[[ 15  55  36  81]\n",
      " [ 28 144 117 190]\n",
      " [225  60  80  90]\n",
      " [104 198  30  36]]\n",
      "\n",
      "Division\n",
      "[[1.66666667 0.45454545 0.25       1.        ]\n",
      " [0.57142857 2.25       1.44444444 0.52631579]\n",
      " [1.         0.6        1.25       1.11111111]\n",
      " [0.61538462 1.63636364 0.83333333 0.25      ]]\n"
     ]
    }
   ],
   "source": [
    "arr1=np.random.randint(1,21,(4,4))\n",
    "arr2=np.random.randint(1,21,(4,4))\n",
    "print(\"arr1\\n\", arr1)\n",
    "print('\\n')\n",
    "print(\"arr2\\n\", arr2)\n",
    "\n",
    "print(\"\\nAddition\")\n",
    "print(arr1+arr2)\n",
    "\n",
    "print(\"\\nSubtraction\")\n",
    "print(arr1-arr2)\n",
    "\n",
    "print(\"\\nMultplication\")\n",
    "print(arr1*arr2)\n",
    "\n",
    "print(\"\\nDivision\")\n",
    "print(arr1/arr2)"
   ]
  },
  {
   "cell_type": "markdown",
   "metadata": {},
   "source": [
    "---\n",
    "#### 8. Use numpy to create 5X5 identity matrix,then extract its diagonal."
   ]
  },
  {
   "cell_type": "code",
   "execution_count": 246,
   "metadata": {},
   "outputs": [
    {
     "name": "stdout",
     "output_type": "stream",
     "text": [
      "5x5 Identity Matrix:\n",
      "[[1 0 0 0 0]\n",
      " [0 1 0 0 0]\n",
      " [0 0 1 0 0]\n",
      " [0 0 0 1 0]\n",
      " [0 0 0 0 1]]\n",
      "\n",
      "Diagonal of the Identity Matrix:\n",
      "[1 1 1 1 1]\n"
     ]
    }
   ],
   "source": [
    "identity_matrix = np.eye(5,dtype=int)\n",
    "diagonal = np.diag(identity_matrix)\n",
    "\n",
    "print(\"5x5 Identity Matrix:\")\n",
    "print(identity_matrix)\n",
    "print(\"\\nDiagonal of the Identity Matrix:\")\n",
    "print(diagonal)\n"
   ]
  },
  {
   "cell_type": "markdown",
   "metadata": {},
   "source": [
    "---\n",
    "#### 9. Generate a Numpy array of 100 random integers between 0 to 1000. find and display prime numbers in the array."
   ]
  },
  {
   "cell_type": "code",
   "execution_count": 197,
   "metadata": {},
   "outputs": [
    {
     "name": "stdout",
     "output_type": "stream",
     "text": [
      "Array of 100 random integers between 0 and 1000:\n",
      "[809 737 745 137 141 690 525 942 206 602 979 888 273 518 699 330 832  27\n",
      " 687 683 789 898 927 905  33 422 754 220  25 344 506 875 257 321 840 291\n",
      " 418 556 775 219 672  49 540 740 626 996 615 288 365 418 916 566  96 393\n",
      " 783 520 709 382 280 930  79 131 834 966 479 880 877 814 477 172 967 562\n",
      " 672  41 998 508  21 301 506 656 256 399 949  21  51 454 675  74 722 643\n",
      " 703  54 243  84 805 172 968 904 167 999]\n",
      "\n",
      "Prime numbers in the array:\n",
      "[809, 137, 683, 257, 709, 79, 131, 479, 877, 967, 41, 643, 167]\n"
     ]
    }
   ],
   "source": [
    "def is_prime(n):\n",
    "    if n <= 1:\n",
    "        return False\n",
    "    for i in range(2, int(np.sqrt(n)) + 1):\n",
    "        if n % i == 0:\n",
    "            return False\n",
    "    return True\n",
    "\n",
    "random_integers = np.random.randint(0, 1001, size=100)\n",
    "\n",
    "prime_numbers = [num for num in random_integers if is_prime(num)]\n",
    "\n",
    "print(\"Array of 100 random integers between 0 and 1000:\")\n",
    "print(random_integers)\n",
    "print(\"\\nPrime numbers in the array:\")\n",
    "print(prime_numbers)\n"
   ]
  },
  {
   "cell_type": "markdown",
   "metadata": {},
   "source": [
    "---\n",
    "#### 10. Create a Numpy array representing the daily temperatures for a month.calculate and display the weekly average."
   ]
  },
  {
   "cell_type": "code",
   "execution_count": 263,
   "metadata": {},
   "outputs": [
    {
     "name": "stdout",
     "output_type": "stream",
     "text": [
      "Random 2D array daily temperature for a month of 30 days\n",
      "\n",
      "array([[26.86130158, 38.6571426 , 34.49130784, 31.91762422, 32.69529736,\n",
      "        35.51666999, 37.3867831 ],\n",
      "       [36.33231444, 26.86846966, 20.12067544, 33.14367589, 20.55162086,\n",
      "        39.27813133, 36.32752888],\n",
      "       [21.04230297, 22.53654997, 20.41342291, 33.35242172, 29.6799533 ,\n",
      "        27.65793059, 26.13227037],\n",
      "       [27.38567871, 38.0871043 , 25.56584201, 26.01986962, 32.19936824,\n",
      "        20.53522591, 32.31185489]])\n",
      "\n",
      "The Weekly Average\n",
      "array([33.93230381, 30.37463093, 25.83069312, 28.87213481])\n"
     ]
    }
   ],
   "source": [
    "import pprint\n",
    "arr1=np.random.uniform(20,41,(4,7))\n",
    "print(\"Random 2D array daily temperature for a month of 30 days\\n\")\n",
    "pprint.pprint(np.array(arr1))\n",
    "print(\"\\nThe Weekly Average\")\n",
    "pprint.pprint(np.mean(arr1,axis=1))\n"
   ]
  }
 ],
 "metadata": {
  "kernelspec": {
   "display_name": "Python 3",
   "language": "python",
   "name": "python3"
  },
  "language_info": {
   "codemirror_mode": {
    "name": "ipython",
    "version": 3
   },
   "file_extension": ".py",
   "mimetype": "text/x-python",
   "name": "python",
   "nbconvert_exporter": "python",
   "pygments_lexer": "ipython3",
   "version": "3.11.5"
  }
 },
 "nbformat": 4,
 "nbformat_minor": 2
}
